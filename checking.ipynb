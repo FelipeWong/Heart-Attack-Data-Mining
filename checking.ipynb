{
 "cells": [
  {
   "cell_type": "code",
   "execution_count": 1,
   "id": "initial_id",
   "metadata": {},
   "outputs": [
    {
     "name": "stdout",
     "output_type": "stream",
     "text": [
      "First 5 Rows:\n",
      "   age  sex  cp  trtbps  chol  fbs  restecg  thalachh  exng  oldpeak  slp  \\\n",
      "0   63    1   3     145   233    1        0       150     0      2.3    0   \n",
      "1   37    1   2     130   250    0        1       187     0      3.5    0   \n",
      "2   41    0   1     130   204    0        0       172     0      1.4    2   \n",
      "3   56    1   1     120   236    0        1       178     0      0.8    2   \n",
      "4   57    0   0     120   354    0        1       163     1      0.6    2   \n",
      "\n",
      "   caa  thall  output  \n",
      "0    0      1       1  \n",
      "1    0      2       1  \n",
      "2    0      2       1  \n",
      "3    0      2       1  \n",
      "4    0      2       1  \n",
      "Redundant Rows:\n",
      "     age  sex  cp  trtbps  chol  fbs  restecg  thalachh  exng  oldpeak  slp  \\\n",
      "163   38    1   2     138   175    0        1       173     0      0.0    2   \n",
      "164   38    1   2     138   175    0        1       173     0      0.0    2   \n",
      "\n",
      "     caa  thall  output  \n",
      "163    4      2       1  \n",
      "164    4      2       1  \n",
      "Missing Columns:\n",
      "Series([], dtype: int64)\n"
     ]
    }
   ],
   "source": [
    "import pandas as pd\n",
    "\n",
    "# Load heart attack dataset into a pandas DataFrame\n",
    "df = pd.read_csv('archive/heart.csv')\n",
    "\n",
    "print(\"First 5 Rows:\")\n",
    "print(df.head())\n",
    "\n",
    "# Data redundancy checking\n",
    "# duplicates = df.duplicated()\n",
    "duplicates = df.duplicated(keep=False)\n",
    "redundant_rows = df[duplicates]\n",
    "\n",
    "# Print redundant rows\n",
    "print(\"Redundant Rows:\")\n",
    "print(redundant_rows)\n",
    "\n",
    "# Missing data checking\n",
    "missing_values = df.isnull().sum()\n",
    "missing_columns = missing_values[missing_values > 0]\n",
    "\n",
    "# Print missing columns and their counts\n",
    "print(\"Missing Columns:\")\n",
    "print(missing_columns)"
   ]
  }
 ],
 "metadata": {
  "kernelspec": {
   "display_name": "Python 3 (ipykernel)",
   "language": "python",
   "name": "python3"
  },
  "language_info": {
   "codemirror_mode": {
    "name": "ipython",
    "version": 3
   },
   "file_extension": ".py",
   "mimetype": "text/x-python",
   "name": "python",
   "nbconvert_exporter": "python",
   "pygments_lexer": "ipython3",
   "version": "3.9.12"
  }
 },
 "nbformat": 4,
 "nbformat_minor": 5
}
