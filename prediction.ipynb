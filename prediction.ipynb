{
 "cells": [
  {
   "cell_type": "code",
   "execution_count": 1,
   "id": "initial_id",
   "metadata": {},
   "outputs": [],
   "source": [
    "import pandas as pd\n",
    "\n",
    "original_data = pd.read_csv('archive/heart.csv')\n",
    "z_score_data = pd.read_csv('data/no_z_scores_outliers.csv')\n",
    "KNN_data = pd.read_csv('data/no_KNN_outliers.csv')\n",
    "\n",
    "categorical_columns = ['cp', 'restecg', 'slp', 'caa', 'thall']\n",
    "numerical_columns = ['age', 'trtbps', 'chol', 'thalachh', 'oldpeak']"
   ]
  },
  {
   "cell_type": "code",
   "execution_count": 2,
   "id": "f5ac5099b0f7a31b",
   "metadata": {},
   "outputs": [
    {
     "name": "stdout",
     "output_type": "stream",
     "text": [
      "          age  sex    trtbps      chol  fbs  thalachh  exng   oldpeak  output  \\\n",
      "0    0.708333    1  0.520408  0.367698    1  0.603053     0  0.522727       1   \n",
      "1    0.166667    1  0.367347  0.426117    0  0.885496     0  0.795455       1   \n",
      "2    0.250000    0  0.367347  0.268041    0  0.770992     0  0.318182       1   \n",
      "3    0.562500    1  0.265306  0.378007    0  0.816794     0  0.181818       1   \n",
      "4    0.583333    0  0.265306  0.783505    0  0.702290     1  0.136364       1   \n",
      "..        ...  ...       ...       ...  ...       ...   ...       ...     ...   \n",
      "292  0.583333    0  0.469388  0.395189    0  0.396947     1  0.045455       0   \n",
      "293  0.333333    1  0.163265  0.474227    0  0.465649     0  0.272727       0   \n",
      "294  0.812500    1  0.510204  0.230241    1  0.534351     0  0.772727       0   \n",
      "295  0.583333    1  0.367347  0.017182    0  0.335878     1  0.272727       0   \n",
      "296  0.583333    0  0.367347  0.378007    0  0.786260     0  0.000000       0   \n",
      "\n",
      "     cp_0  ...  slp_1  slp_2  caa_0  caa_1  caa_2  caa_3  caa_4  thall_1  \\\n",
      "0       0  ...      0      0      1      0      0      0      0        1   \n",
      "1       0  ...      0      0      1      0      0      0      0        0   \n",
      "2       0  ...      0      1      1      0      0      0      0        0   \n",
      "3       0  ...      0      1      1      0      0      0      0        0   \n",
      "4       1  ...      0      1      1      0      0      0      0        0   \n",
      "..    ...  ...    ...    ...    ...    ...    ...    ...    ...      ...   \n",
      "292     1  ...      1      0      1      0      0      0      0        0   \n",
      "293     0  ...      1      0      1      0      0      0      0        0   \n",
      "294     1  ...      1      0      0      0      1      0      0        0   \n",
      "295     1  ...      1      0      0      1      0      0      0        0   \n",
      "296     0  ...      1      0      0      1      0      0      0        0   \n",
      "\n",
      "     thall_2  thall_3  \n",
      "0          0        0  \n",
      "1          1        0  \n",
      "2          1        0  \n",
      "3          1        0  \n",
      "4          1        0  \n",
      "..       ...      ...  \n",
      "292        0        1  \n",
      "293        0        1  \n",
      "294        0        1  \n",
      "295        0        1  \n",
      "296        1        0  \n",
      "\n",
      "[297 rows x 27 columns]\n",
      "          age  sex    trtbps      chol  fbs  thalachh  exng   oldpeak  output  \\\n",
      "0    0.708333    1  0.481132  0.333333    1  0.543860     0  0.370968       1   \n",
      "1    0.166667    1  0.339623  0.394928    0  0.868421     0  0.564516       1   \n",
      "2    0.250000    0  0.339623  0.228261    0  0.736842     0  0.225806       1   \n",
      "3    0.562500    1  0.245283  0.344203    0  0.789474     0  0.129032       1   \n",
      "4    0.583333    0  0.245283  0.771739    0  0.657895     1  0.096774       1   \n",
      "..        ...  ...       ...       ...  ...       ...   ...       ...     ...   \n",
      "294  0.625000    1  0.660377  0.126812    1  0.017544     0  0.161290       0   \n",
      "295  0.583333    0  0.433962  0.362319    0  0.307018     1  0.032258       0   \n",
      "296  0.333333    1  0.150943  0.445652    0  0.385965     0  0.193548       0   \n",
      "297  0.812500    1  0.471698  0.188406    1  0.464912     0  0.548387       0   \n",
      "298  0.583333    0  0.339623  0.344203    0  0.754386     0  0.000000       0   \n",
      "\n",
      "     cp_0  ...  slp_2  caa_0  caa_1  caa_2  caa_3  caa_4  thall_0  thall_1  \\\n",
      "0       0  ...      0      1      0      0      0      0        0        1   \n",
      "1       0  ...      0      1      0      0      0      0        0        0   \n",
      "2       0  ...      1      1      0      0      0      0        0        0   \n",
      "3       0  ...      1      1      0      0      0      0        0        0   \n",
      "4       1  ...      1      1      0      0      0      0        0        0   \n",
      "..    ...  ...    ...    ...    ...    ...    ...    ...      ...      ...   \n",
      "294     1  ...      0      0      0      1      0      0        0        1   \n",
      "295     1  ...      0      1      0      0      0      0        0        0   \n",
      "296     0  ...      0      1      0      0      0      0        0        0   \n",
      "297     1  ...      0      0      0      1      0      0        0        0   \n",
      "298     0  ...      0      0      1      0      0      0        0        0   \n",
      "\n",
      "     thall_2  thall_3  \n",
      "0          0        0  \n",
      "1          1        0  \n",
      "2          1        0  \n",
      "3          1        0  \n",
      "4          1        0  \n",
      "..       ...      ...  \n",
      "294        0        0  \n",
      "295        0        1  \n",
      "296        0        1  \n",
      "297        0        1  \n",
      "298        1        0  \n",
      "\n",
      "[299 rows x 28 columns]\n"
     ]
    }
   ],
   "source": [
    "from preprocessing import normalize_data\n",
    "from preprocessing import one_hot_encode\n",
    "\n",
    "normalize_original_data = normalize_data(original_data, numerical_columns)\n",
    "normalize_z_score_data = normalize_data(z_score_data, numerical_columns)\n",
    "normalize_KNN_data = normalize_data(KNN_data, numerical_columns)\n",
    "\n",
    "encoded_original_data = one_hot_encode(normalize_original_data, categorical_columns)\n",
    "encoded_z_score_data = one_hot_encode(normalize_z_score_data, categorical_columns)\n",
    "encoded_KNN_data = one_hot_encode(normalize_KNN_data, categorical_columns)\n",
    "# print(encoded_z_score_data.columns)\n",
    "# print(encoded_KNN_data.columns)\n",
    "print(encoded_original_data)\n",
    "print(encoded_z_score_data)\n",
    "print(encoded_KNN_data)"
   ]
  },
  {
   "cell_type": "code",
   "execution_count": 3,
   "id": "9ab1f4f52b757d6a",
   "metadata": {},
   "outputs": [
    {
     "name": "stdout",
     "output_type": "stream",
     "text": [
      "Accuracy of z-score data: 0.7878787878787878\n"
     ]
    }
   ],
   "source": [
    "from model.XGBoost import train_and_evaluate_xgboost\n",
    "\n",
    "accuracy = train_and_evaluate_xgboost(encoded_original_data)\n",
    "print(\"Accuracy of z-score data:\", accuracy)\n",
    "\n",
    "accuracy = train_and_evaluate_xgboost(encoded_z_score_data)\n",
    "print(\"Accuracy of z-score data:\", accuracy)\n",
    "\n",
    "accuracy = train_and_evaluate_xgboost(encoded_KNN_data)\n",
    "print(\"Accuracy of KNN data:\", accuracy)"
   ]
  },
  {
   "cell_type": "code",
   "execution_count": 4,
   "id": "52c5720980258859",
   "metadata": {},
   "outputs": [
    {
     "name": "stdout",
     "output_type": "stream",
     "text": [
      "Accuracy of KNN data: 0.8484848484848485\n"
     ]
    }
   ],
   "source": [
    "from model.AdaBoost import train_and_evaluate_adaboost\n",
    "\n",
    "accuracy = train_and_evaluate_adaboost(encoded_original_data)\n",
    "print(\"Accuracy of z-score data:\", accuracy)\n",
    "\n",
    "accuracy = train_and_evaluate_adaboost(encoded_z_score_data)\n",
    "print(\"Accuracy of z-score data:\", accuracy)\n",
    "\n",
    "accuracy = train_and_evaluate_adaboost(encoded_KNN_data)\n",
    "print(\"Accuracy of KNN data:\", accuracy)"
   ]
  }
 ],
 "metadata": {
  "kernelspec": {
   "display_name": "Python 3 (ipykernel)",
   "language": "python",
   "name": "python3"
  },
  "language_info": {
   "codemirror_mode": {
    "name": "ipython",
    "version": 3
   },
   "file_extension": ".py",
   "mimetype": "text/x-python",
   "name": "python",
   "nbconvert_exporter": "python",
   "pygments_lexer": "ipython3",
   "version": "3.9.12"
  }
 },
 "nbformat": 4,
 "nbformat_minor": 5
}
