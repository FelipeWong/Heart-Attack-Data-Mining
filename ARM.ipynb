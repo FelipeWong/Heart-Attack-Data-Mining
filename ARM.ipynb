{
 "cells": [
  {
   "cell_type": "markdown",
   "id": "7a820a46a8906c62",
   "metadata": {},
   "source": [
    "Step 1 - Load the data"
   ]
  },
  {
   "cell_type": "code",
   "execution_count": 1,
   "id": "initial_id",
   "metadata": {},
   "outputs": [
    {
     "name": "stdout",
     "output_type": "stream",
     "text": [
      "   age  sex  cp\n",
      "0   63    1   3\n",
      "1   37    1   2\n",
      "2   41    0   1\n",
      "3   56    1   1\n",
      "4   57    0   0\n"
     ]
    }
   ],
   "source": [
    "import pandas as pd\n",
    "\n",
    "# Load the dataset using pandas\n",
    "df = pd.read_csv('archive/heart.csv')\n",
    "\n",
    "print(df[['age', 'sex', 'cp']].head())"
   ]
  },
  {
   "cell_type": "markdown",
   "id": "8d99177016a42abf",
   "metadata": {},
   "source": [
    "Step 2 - Preprocessing"
   ]
  },
  {
   "cell_type": "code",
   "execution_count": 2,
   "id": "f6bc8329774c7cb6",
   "metadata": {},
   "outputs": [
    {
     "name": "stdout",
     "output_type": "stream",
     "text": [
      "   sex  cp  fbs  restecg  exng  slp  caa  thall  output  age_29  ...  \\\n",
      "0    1   3    1        0     0    0    0      1       1       0  ...   \n",
      "1    1   2    0        1     0    0    0      2       1       0  ...   \n",
      "2    0   1    0        0     0    2    0      2       1       0  ...   \n",
      "3    1   1    0        1     0    2    0      2       1       0  ...   \n",
      "4    0   0    0        1     1    2    0      2       1       0  ...   \n",
      "\n",
      "   oldpeak_3.2  oldpeak_3.4  oldpeak_3.5  oldpeak_3.6  oldpeak_3.8  \\\n",
      "0            0            0            0            0            0   \n",
      "1            0            0            1            0            0   \n",
      "2            0            0            0            0            0   \n",
      "3            0            0            0            0            0   \n",
      "4            0            0            0            0            0   \n",
      "\n",
      "   oldpeak_4.0  oldpeak_4.2  oldpeak_4.4  oldpeak_5.6  oldpeak_6.2  \n",
      "0            0            0            0            0            0  \n",
      "1            0            0            0            0            0  \n",
      "2            0            0            0            0            0  \n",
      "3            0            0            0            0            0  \n",
      "4            0            0            0            0            0  \n",
      "\n",
      "[5 rows x 382 columns]\n"
     ]
    }
   ],
   "source": [
    "from preprocessing import one_hot_encode\n",
    "\n",
    "columns_to_use = ['age', 'sex', 'cp', 'trtbps', 'chol', 'fbs', 'restecg', 'thalachh', 'exng', 'oldpeak', 'slp', 'caa',\n",
    "                  'thall', 'output']\n",
    "arm_df = df[columns_to_use]\n",
    "\n",
    "# Specify the numerical columns\n",
    "numerical_columns = ['age', 'trtbps', 'chol', 'thalachh', 'oldpeak']\n",
    "\n",
    "# Perform one-hot encoding on the numerical columns\n",
    "arm_df_encoded = one_hot_encode(arm_df, numerical_columns)\n",
    "\n",
    "print(arm_df_encoded.head())"
   ]
  },
  {
   "cell_type": "code",
   "execution_count": 3,
   "id": "1761616c6d2b0437",
   "metadata": {},
   "outputs": [
    {
     "name": "stdout",
     "output_type": "stream",
     "text": [
      "   sex  fbs  exng  output  age_29  age_34  age_35  age_37  age_38  age_39  \\\n",
      "0    1    1     0       1       0       0       0       0       0       0   \n",
      "1    1    0     0       1       0       0       0       1       0       0   \n",
      "2    0    0     0       1       0       0       0       0       0       0   \n",
      "3    1    0     0       1       0       0       0       0       0       0   \n",
      "4    0    0     1       1       0       0       0       0       0       0   \n",
      "\n",
      "   ...  slp_2  caa_0  caa_1  caa_2  caa_3  caa_4  thall_0  thall_1  thall_2  \\\n",
      "0  ...      0      1      0      0      0      0        0        1        0   \n",
      "1  ...      0      1      0      0      0      0        0        0        1   \n",
      "2  ...      1      1      0      0      0      0        0        0        1   \n",
      "3  ...      1      1      0      0      0      0        0        0        1   \n",
      "4  ...      1      1      0      0      0      0        0        0        1   \n",
      "\n",
      "   thall_3  \n",
      "0        0  \n",
      "1        0  \n",
      "2        0  \n",
      "3        0  \n",
      "4        0  \n",
      "\n",
      "[5 rows x 396 columns]\n"
     ]
    }
   ],
   "source": [
    "# Specify the categorical columns\n",
    "categorical_columns = ['cp', 'restecg', 'slp', 'caa', 'thall']\n",
    "\n",
    "# Perform one-hot encoding on the categorical columns\n",
    "arm_df_encoded = one_hot_encode(arm_df_encoded, categorical_columns)\n",
    "\n",
    "print(arm_df_encoded.head())"
   ]
  },
  {
   "cell_type": "markdown",
   "id": "7df41a74e5084ce0",
   "metadata": {},
   "source": [
    "Step 3 - ARM"
   ]
  },
  {
   "cell_type": "code",
   "execution_count": 4,
   "id": "b3b0a0b75f7887be",
   "metadata": {},
   "outputs": [
    {
     "name": "stdout",
     "output_type": "stream",
     "text": [
      "  antecedents consequents  antecedent support  consequent support   support  \\\n",
      "0    (output)     (caa_0)            0.544554            0.577558  0.429043   \n",
      "2    (output)   (thall_2)            0.544554            0.547855  0.429043   \n",
      "3   (thall_2)    (output)            0.547855            0.544554  0.429043   \n",
      "1     (caa_0)    (output)            0.577558            0.544554  0.429043   \n",
      "\n",
      "   confidence      lift  leverage  conviction  zhangs_metric  \n",
      "0    0.787879  1.364156  0.114531    1.991513       0.586120  \n",
      "2    0.787879  1.438116  0.130706    2.131542       0.668896  \n",
      "3    0.783133  1.438116  0.130706    2.100110       0.673779  \n",
      "1    0.742857  1.364156  0.114531    1.771177       0.631911  \n"
     ]
    },
    {
     "name": "stderr",
     "output_type": "stream",
     "text": [
      "C:\\Users\\s2905\\anaconda3\\lib\\site-packages\\mlxtend\\frequent_patterns\\fpcommon.py:110: DeprecationWarning: DataFrames with non-bool types result in worse computationalperformance and their support might be discontinued in the future.Please use a DataFrame with bool type\n",
      "  warnings.warn(\n"
     ]
    }
   ],
   "source": [
    "from mlxtend.frequent_patterns import apriori, association_rules\n",
    "\n",
    "# Set minimum thresholds for support and confidence\n",
    "min_support = 0.4\n",
    "min_confidence = 0.6\n",
    "\n",
    "# Apply Apriori algorithm to find frequent itemsets\n",
    "frequent_itemsets = apriori(arm_df_encoded, min_support=min_support, use_colnames=True)\n",
    "\n",
    "# Generate association rules\n",
    "rules = association_rules(frequent_itemsets, metric='confidence', min_threshold=min_confidence)\n",
    "\n",
    "# Sort the rules by support and confidence in descending order\n",
    "rules = rules.sort_values(['support', 'confidence'], ascending=False)\n",
    "\n",
    "# Explore and analyze the association rules\n",
    "print(rules.head())"
   ]
  },
  {
   "cell_type": "code",
   "execution_count": 5,
   "id": "a47080e193a75e0e",
   "metadata": {},
   "outputs": [
    {
     "name": "stdout",
     "output_type": "stream",
     "text": [
      "  antecedents consequents  antecedent support  consequent support   support  \\\n",
      "0    (output)     (caa_0)            0.544554            0.577558  0.429043   \n",
      "2    (output)   (thall_2)            0.544554            0.547855  0.429043   \n",
      "3   (thall_2)    (output)            0.547855            0.544554  0.429043   \n",
      "1     (caa_0)    (output)            0.577558            0.544554  0.429043   \n",
      "\n",
      "   confidence      lift  leverage  conviction  zhangs_metric  \n",
      "0    0.787879  1.364156  0.114531    1.991513       0.586120  \n",
      "2    0.787879  1.438116  0.130706    2.131542       0.668896  \n",
      "3    0.783133  1.438116  0.130706    2.100110       0.673779  \n",
      "1    0.742857  1.364156  0.114531    1.771177       0.631911  \n"
     ]
    }
   ],
   "source": [
    "print(pd.DataFrame(rules))"
   ]
  }
 ],
 "metadata": {
  "kernelspec": {
   "display_name": "Python 3 (ipykernel)",
   "language": "python",
   "name": "python3"
  },
  "language_info": {
   "codemirror_mode": {
    "name": "ipython",
    "version": 3
   },
   "file_extension": ".py",
   "mimetype": "text/x-python",
   "name": "python",
   "nbconvert_exporter": "python",
   "pygments_lexer": "ipython3",
   "version": "3.9.12"
  }
 },
 "nbformat": 4,
 "nbformat_minor": 5
}
