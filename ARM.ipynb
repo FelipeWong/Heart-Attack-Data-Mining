{
 "cells": [
  {
   "cell_type": "markdown",
   "id": "7a820a46a8906c62",
   "metadata": {},
   "source": [
    "Step 1 - Load the data"
   ]
  },
  {
   "cell_type": "code",
   "execution_count": 1,
   "id": "initial_id",
   "metadata": {},
   "outputs": [
    {
     "name": "stdout",
     "output_type": "stream",
     "text": [
      "   age  sex  cp\n",
      "0   63    1   3\n",
      "1   37    1   2\n",
      "2   41    0   1\n",
      "3   56    1   1\n",
      "4   57    0   0\n"
     ]
    }
   ],
   "source": [
    "import pandas as pd\n",
    "\n",
    "# Load the heart attack dataset using pandas\n",
    "original_df = pd.read_csv('archive/heart.csv')\n",
    "z_score_df = pd.read_csv('data/no_z_scores_outliers.csv')\n",
    "KNN_df = pd.read_csv('data/no_KNN_outliers.csv')\n",
    "\n",
    "print(original_df[['age', 'sex', 'cp']].head())"
   ]
  },
  {
   "cell_type": "markdown",
   "id": "8d99177016a42abf",
   "metadata": {},
   "source": [
    "Step 2 - Preprocessing"
   ]
  },
  {
   "cell_type": "code",
   "execution_count": 2,
   "id": "f6bc8329774c7cb6",
   "metadata": {},
   "outputs": [
    {
     "name": "stdout",
     "output_type": "stream",
     "text": [
      "   sex  fbs  exng  output  age_29  age_34  age_35  age_37  age_38  age_39  \\\n",
      "0    1    1     0       1       0       0       0       0       0       0   \n",
      "1    1    0     0       1       0       0       0       1       0       0   \n",
      "2    0    0     0       1       0       0       0       0       0       0   \n",
      "3    1    0     0       1       0       0       0       0       0       0   \n",
      "4    0    0     1       1       0       0       0       0       0       0   \n",
      "\n",
      "   ...  slp_2  caa_0  caa_1  caa_2  caa_3  caa_4  thall_0  thall_1  thall_2  \\\n",
      "0  ...      0      1      0      0      0      0        0        1        0   \n",
      "1  ...      0      1      0      0      0      0        0        0        1   \n",
      "2  ...      1      1      0      0      0      0        0        0        1   \n",
      "3  ...      1      1      0      0      0      0        0        0        1   \n",
      "4  ...      1      1      0      0      0      0        0        0        1   \n",
      "\n",
      "   thall_3  \n",
      "0        0  \n",
      "1        0  \n",
      "2        0  \n",
      "3        0  \n",
      "4        0  \n",
      "\n",
      "[5 rows x 396 columns]\n",
      "   sex  fbs  exng  output  age_29  age_34  age_35  age_37  age_38  age_39  \\\n",
      "0    1    1     0       1       0       0       0       0       0       0   \n",
      "1    1    0     0       1       0       0       0       1       0       0   \n",
      "2    0    0     0       1       0       0       0       0       0       0   \n",
      "3    1    0     0       1       0       0       0       0       0       0   \n",
      "4    0    0     1       1       0       0       0       0       0       0   \n",
      "\n",
      "   ...  slp_1  slp_2  caa_0  caa_1  caa_2  caa_3  caa_4  thall_1  thall_2  \\\n",
      "0  ...      0      0      1      0      0      0      0        1        0   \n",
      "1  ...      0      0      1      0      0      0      0        0        1   \n",
      "2  ...      0      1      1      0      0      0      0        0        1   \n",
      "3  ...      0      1      1      0      0      0      0        0        1   \n",
      "4  ...      0      1      1      0      0      0      0        0        1   \n",
      "\n",
      "   thall_3  \n",
      "0        0  \n",
      "1        0  \n",
      "2        0  \n",
      "3        0  \n",
      "4        0  \n",
      "\n",
      "[5 rows x 389 columns]\n",
      "   sex  fbs  exng  output  age_29  age_34  age_35  age_37  age_38  age_39  \\\n",
      "0    1    1     0       1       0       0       0       0       0       0   \n",
      "1    1    0     0       1       0       0       0       1       0       0   \n",
      "2    0    0     0       1       0       0       0       0       0       0   \n",
      "3    1    0     0       1       0       0       0       0       0       0   \n",
      "4    0    0     1       1       0       0       0       0       0       0   \n",
      "\n",
      "   ...  slp_2  caa_0  caa_1  caa_2  caa_3  caa_4  thall_0  thall_1  thall_2  \\\n",
      "0  ...      0      1      0      0      0      0        0        1        0   \n",
      "1  ...      0      1      0      0      0      0        0        0        1   \n",
      "2  ...      1      1      0      0      0      0        0        0        1   \n",
      "3  ...      1      1      0      0      0      0        0        0        1   \n",
      "4  ...      1      1      0      0      0      0        0        0        1   \n",
      "\n",
      "   thall_3  \n",
      "0        0  \n",
      "1        0  \n",
      "2        0  \n",
      "3        0  \n",
      "4        0  \n",
      "\n",
      "[5 rows x 396 columns]\n"
     ]
    }
   ],
   "source": [
    "from preprocessing import one_hot_encode\n",
    "\n",
    "columns_to_use = ['age', 'sex', 'cp', 'trtbps', 'chol', 'fbs', 'restecg', 'thalachh', 'exng', 'oldpeak', 'slp', 'caa',\n",
    "                  'thall', 'output']\n",
    "arm_original_df = original_df[columns_to_use]\n",
    "arm_z_score_df = z_score_df[columns_to_use]\n",
    "arm_KNN_df = KNN_df[columns_to_use]\n",
    "\n",
    "# Specify the numerical columns\n",
    "numerical_columns = ['age', 'trtbps', 'chol', 'thalachh', 'oldpeak']\n",
    "# Specify the categorical columns\n",
    "categorical_columns = ['cp', 'restecg', 'slp', 'caa', 'thall']\n",
    "\n",
    "# Perform one-hot encoding on the numerical columns\n",
    "arm_original_df_encoded = one_hot_encode(arm_original_df, numerical_columns)\n",
    "# Perform one-hot encoding on the categorical columns\n",
    "arm_original_df_encoded = one_hot_encode(arm_original_df_encoded, categorical_columns)\n",
    "\n",
    "arm_z_score_df_encoded = one_hot_encode(arm_z_score_df, numerical_columns)\n",
    "arm_z_score_df_encoded = one_hot_encode(arm_z_score_df_encoded, categorical_columns)\n",
    "\n",
    "arm_KNN_df_encoded = one_hot_encode(arm_KNN_df, numerical_columns)\n",
    "arm_KNN_df_encoded = one_hot_encode(arm_KNN_df_encoded, categorical_columns)\n",
    "\n",
    "print(arm_original_df_encoded.head())\n",
    "print(arm_z_score_df_encoded.head())\n",
    "print(arm_original_df_encoded.head())"
   ]
  },
  {
   "cell_type": "markdown",
   "id": "7df41a74e5084ce0",
   "metadata": {},
   "source": [
    "Step 3 - ARM"
   ]
  },
  {
   "cell_type": "code",
   "execution_count": 3,
   "id": "b3b0a0b75f7887be",
   "metadata": {},
   "outputs": [
    {
     "name": "stdout",
     "output_type": "stream",
     "text": [
      "ARM for original data:\n",
      "  antecedents consequents  antecedent support  consequent support   support  \\\n",
      "1    (output)     (caa_0)            0.544554            0.577558  0.429043   \n",
      "3    (output)   (thall_2)            0.544554            0.547855  0.429043   \n",
      "2   (thall_2)    (output)            0.547855            0.544554  0.429043   \n",
      "0     (caa_0)    (output)            0.577558            0.544554  0.429043   \n",
      "\n",
      "   confidence      lift  leverage  conviction  zhangs_metric  \n",
      "1    0.787879  1.364156  0.114531    1.991513       0.586120  \n",
      "3    0.787879  1.438116  0.130706    2.131542       0.668896  \n",
      "2    0.783133  1.438116  0.130706    2.100110       0.673779  \n",
      "0    0.742857  1.364156  0.114531    1.771177       0.631911  \n",
      "ARM for z score data:\n",
      "  antecedents consequents  antecedent support  consequent support   support  \\\n",
      "2    (output)   (thall_2)            0.548822            0.558923  0.437710   \n",
      "3   (thall_2)    (output)            0.558923            0.548822  0.437710   \n",
      "1    (output)     (caa_0)            0.548822            0.575758  0.430976   \n",
      "0     (caa_0)    (output)            0.575758            0.548822  0.430976   \n",
      "\n",
      "   confidence      lift  leverage  conviction  zhangs_metric  \n",
      "2    0.797546  1.426935  0.130962    2.178655       0.663146  \n",
      "3    0.783133  1.426935  0.130962    2.080434       0.678332  \n",
      "1    0.785276  1.363901  0.114988    1.975758       0.591360  \n",
      "0    0.748538  1.363901  0.114988    1.794221       0.628906  \n",
      "ARM for KNN data:\n",
      "  antecedents consequents  antecedent support  consequent support   support  \\\n",
      "2    (output)   (thall_2)            0.545151            0.551839  0.434783   \n",
      "3   (thall_2)    (output)            0.551839            0.545151  0.434783   \n",
      "1    (output)     (caa_0)            0.545151            0.578595  0.431438   \n",
      "0     (caa_0)    (output)            0.578595            0.545151  0.431438   \n",
      "\n",
      "   confidence      lift  leverage  conviction  zhangs_metric  \n",
      "2    0.797546  1.445250  0.133947    2.213641       0.677319  \n",
      "3    0.787879  1.445250  0.133947    2.144290       0.687428  \n",
      "1    0.791411  1.367814  0.116017    2.020264       0.591199  \n",
      "0    0.745665  1.367814  0.116017    1.788386       0.638120  \n"
     ]
    },
    {
     "name": "stderr",
     "output_type": "stream",
     "text": [
      "C:\\Users\\s2905\\anaconda3\\lib\\site-packages\\mlxtend\\frequent_patterns\\fpcommon.py:110: DeprecationWarning: DataFrames with non-bool types result in worse computationalperformance and their support might be discontinued in the future.Please use a DataFrame with bool type\n",
      "  warnings.warn(\n",
      "C:\\Users\\s2905\\anaconda3\\lib\\site-packages\\mlxtend\\frequent_patterns\\fpcommon.py:110: DeprecationWarning: DataFrames with non-bool types result in worse computationalperformance and their support might be discontinued in the future.Please use a DataFrame with bool type\n",
      "  warnings.warn(\n",
      "C:\\Users\\s2905\\anaconda3\\lib\\site-packages\\mlxtend\\frequent_patterns\\fpcommon.py:110: DeprecationWarning: DataFrames with non-bool types result in worse computationalperformance and their support might be discontinued in the future.Please use a DataFrame with bool type\n",
      "  warnings.warn(\n"
     ]
    }
   ],
   "source": [
    "from model.ARM import find_association_rules\n",
    "\n",
    "# Set minimum thresholds for support and confidence\n",
    "min_support = 0.4\n",
    "min_confidence = 0.6\n",
    "\n",
    "# Apply Apriori algorithm to find frequent itemsets\n",
    "original_resulting_rules = find_association_rules(arm_original_df_encoded, min_support, min_confidence)\n",
    "z_score_resulting_rules = find_association_rules(arm_z_score_df_encoded, min_support, min_confidence)\n",
    "KNN_resulting_rules = find_association_rules(arm_KNN_df_encoded, min_support, min_confidence)\n",
    "\n",
    "# Explore and analyze the association rules\n",
    "print(\"ARM for original data:\")\n",
    "print(original_resulting_rules.head())\n",
    "print(\"ARM for z score data:\")\n",
    "print(z_score_resulting_rules.head())\n",
    "print(\"ARM for KNN data:\")\n",
    "print(KNN_resulting_rules.head())"
   ]
  }
 ],
 "metadata": {
  "kernelspec": {
   "display_name": "Python 3 (ipykernel)",
   "language": "python",
   "name": "python3"
  },
  "language_info": {
   "codemirror_mode": {
    "name": "ipython",
    "version": 3
   },
   "file_extension": ".py",
   "mimetype": "text/x-python",
   "name": "python",
   "nbconvert_exporter": "python",
   "pygments_lexer": "ipython3",
   "version": "3.9.12"
  }
 },
 "nbformat": 4,
 "nbformat_minor": 5
}
